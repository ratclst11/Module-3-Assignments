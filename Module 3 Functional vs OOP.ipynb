{
 "cells": [
  {
   "cell_type": "code",
   "execution_count": 1,
   "id": "8edd8854-93bb-44a4-a099-ec2b5ce4fb08",
   "metadata": {},
   "outputs": [
    {
     "name": "stdout",
     "output_type": "stream",
     "text": [
      "[0, 0, 1, 1, 2, 2]\n",
      "[0, 0, 0, 0, 0, 1, 1, 1, 1, 1, 2, 2]\n"
     ]
    }
   ],
   "source": [
    "def sort012(arr):\n",
    "    count0 = 0\n",
    "    count1 = 0\n",
    "    count2 = 0\n",
    "\n",
    "    # Count the number of 0s, 1s, and 2s\n",
    "    for num in arr:\n",
    "        if num == 0:\n",
    "            count0 += 1\n",
    "        elif num == 1:\n",
    "            count1 += 1\n",
    "        else:\n",
    "            count2 += 1\n",
    "\n",
    "    # Update the array with sorted values\n",
    "    index = 0\n",
    "    for _ in range(count0):\n",
    "        arr[index] = 0\n",
    "        index += 1\n",
    "    for _ in range(count1):\n",
    "        arr[index] = 1\n",
    "        index += 1\n",
    "    for _ in range(count2):\n",
    "        arr[index] = 2\n",
    "        index += 1\n",
    "\n",
    "# Example usage:\n",
    "arr1 = [0, 1, 2, 0, 1, 2]\n",
    "sort012(arr1)\n",
    "print(arr1)  # Output: [0, 0, 1, 1, 2, 2]\n",
    "\n",
    "arr2 = [0, 1, 1, 0, 1, 2, 1, 2, 0, 0, 0, 1]\n",
    "sort012(arr2)\n",
    "print(arr2)  # Output: [0, 0, 0, 0, 0, 1, 1, 1, 1, 1, 2, 2]"
   ]
  },
  {
   "cell_type": "code",
   "execution_count": 3,
   "id": "ee5fe236-72cf-47b2-9f56-405bbad6056e",
   "metadata": {},
   "outputs": [
    {
     "name": "stdout",
     "output_type": "stream",
     "text": [
      "3\n",
      "-1\n",
      "0\n"
     ]
    }
   ],
   "source": [
    "def binary_search(arr, k):\n",
    "    low = 0\n",
    "    high = len(arr) - 1\n",
    "\n",
    "    while low <= high:\n",
    "        mid = (low + high) // 2\n",
    "\n",
    "        if arr[mid] == k:\n",
    "            # Move left to find the smallest index\n",
    "            while mid > 0 and arr[mid - 1] == k:\n",
    "                mid -= 1\n",
    "            return mid\n",
    "        elif arr[mid] < k:\n",
    "            low = mid + 1\n",
    "        else:\n",
    "            high = mid - 1\n",
    "\n",
    "    return -1\n",
    "\n",
    "# Example usage:\n",
    "arr1 = [1, 2, 3, 4, 5]\n",
    "k1 = 4\n",
    "print(binary_search(arr1, k1))  # Output: 3\n",
    "\n",
    "arr2 = [11, 22, 33, 44, 55]\n",
    "k2 = 445\n",
    "print(binary_search(arr2, k2))  # Output: -1\n",
    "\n",
    "arr3 = [1, 1, 1, 1, 2]\n",
    "k3 = 1\n",
    "print(binary_search(arr3, k3))  # Output: 0"
   ]
  },
  {
   "cell_type": "code",
   "execution_count": null,
   "id": "df413be8-e004-47db-953f-0e494a0daabe",
   "metadata": {},
   "outputs": [],
   "source": []
  }
 ],
 "metadata": {
  "kernelspec": {
   "display_name": "Python [conda env:base] *",
   "language": "python",
   "name": "conda-base-py"
  },
  "language_info": {
   "codemirror_mode": {
    "name": "ipython",
    "version": 3
   },
   "file_extension": ".py",
   "mimetype": "text/x-python",
   "name": "python",
   "nbconvert_exporter": "python",
   "pygments_lexer": "ipython3",
   "version": "3.12.7"
  }
 },
 "nbformat": 4,
 "nbformat_minor": 5
}
