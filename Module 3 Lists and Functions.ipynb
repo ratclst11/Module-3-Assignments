{
 "cells": [
  {
   "cell_type": "code",
   "execution_count": 5,
   "id": "ddfde82e-43de-4697-8f64-fbca0ff1f93c",
   "metadata": {},
   "outputs": [
    {
     "name": "stdout",
     "output_type": "stream",
     "text": [
      "['mozzarella', 'cinderella', 'salmonella']\n"
     ]
    }
   ],
   "source": [
    "# Create a list called things with the specified elements\n",
    "things = [\"mozzarella\", \"cinderella\", \"salmonella\"]\n",
    "\n",
    "# Print the list to verify\n",
    "print(things)"
   ]
  },
  {
   "cell_type": "markdown",
   "id": "29d8e6f1-4cee-4d74-a484-3fd484dbd102",
   "metadata": {},
   "source": [
    "### Explanation of code\n",
    "\n",
    "In this code, we create a list called `things` with three elements: \"mozzarella\", \"cinderella\", and \"salmonella\". Lists in Python are created using square brackets `[]`, and elements are separated by commas. We then print the list to verify its contents."
   ]
  },
  {
   "cell_type": "code",
   "execution_count": 7,
   "id": "8e04d62c-0519-4b77-abbb-e2debce545d0",
   "metadata": {},
   "outputs": [
    {
     "name": "stdout",
     "output_type": "stream",
     "text": [
      "['mozzarella', 'Cinderella', 'salmonella']\n"
     ]
    }
   ],
   "source": [
    "# Create a list called things with the specified elements\n",
    "things = [\"mozzarella\", \"cinderella\", \"salmonella\"]\n",
    "\n",
    "# Capitalize the element that refers to a person (cinderella)\n",
    "things[1] = things[1].capitalize()\n",
    "\n",
    "# Print the list to verify\n",
    "print(things)"
   ]
  },
  {
   "cell_type": "markdown",
   "id": "2a8b1771-877e-4350-ae56-8fc48ea5a515",
   "metadata": {},
   "source": [
    "### Explanation of code\n",
    "\n",
    "In this code, we create a list called `things` with three elements: \"mozzarella\", \"cinderella\", and \"salmonella\". \n",
    "\n",
    "Capitalize the element that refers to a person, which is \"cinderella\". We do this by accessing the second element of the list (`things[1]`) and using the `capitalize()` method to change it to \"Cinderella\".\n",
    "\n",
    "Print the list to verify that the change has been made. The updated list is:\n",
    "\n",
    "```python\n",
    "['mozzarella', 'Cinderella', 'salmonella']"
   ]
  },
  {
   "cell_type": "code",
   "execution_count": 9,
   "id": "7cf5e3ec-680c-49c1-915b-898b46fc6e14",
   "metadata": {},
   "outputs": [
    {
     "name": "stdout",
     "output_type": "stream",
     "text": [
      "['MOZZARELLA', 'cinderella', 'salmonella']\n"
     ]
    }
   ],
   "source": [
    "# Create a list called things with the specified elements\n",
    "things = [\"mozzarella\", \"cinderella\", \"salmonella\"]\n",
    "\n",
    "# Make the cheesy element (mozzarella) all uppercase\n",
    "things[0] = things[0].upper()\n",
    "\n",
    "# Print the list to verify\n",
    "print(things)"
   ]
  },
  {
   "cell_type": "markdown",
   "id": "9a2f9e51-8a63-461a-9197-a8aadc86239b",
   "metadata": {},
   "source": [
    "### Explanation of code\n",
    "\n",
    "In this code, we first create a list called `things` with three elements: \"mozzarella\", \"cinderella\", and \"salmonella\". \n",
    "\n",
    "Make the cheesy element, which is \"mozzarella\", all uppercase. We do this by accessing the first element of the list (`things[0]`) and using the `upper()` method to change it to \"MOZZARELLA\".\n",
    "\n",
    "Print the list to verify that the change has been made. The updated list is:\n",
    "\n",
    "```python\n",
    "['MOZZARELLA', 'cinderella', 'salmonella']"
   ]
  },
  {
   "cell_type": "code",
   "execution_count": 11,
   "id": "d2fad224-566f-480b-87f1-59a5167ce256",
   "metadata": {},
   "outputs": [
    {
     "name": "stdout",
     "output_type": "stream",
     "text": [
      "['mozzarella', 'cinderella']\n"
     ]
    }
   ],
   "source": [
    "# Create a list called things with the specified elements\n",
    "things = [\"mozzarella\", \"cinderella\", \"salmonella\"]\n",
    "\n",
    "# Delete the disease element (salmonella)\n",
    "del things[2]\n",
    "\n",
    "# Print the list to verify\n",
    "print(things)"
   ]
  },
  {
   "cell_type": "markdown",
   "id": "639e5a71-20f6-4fd1-91c4-58886dc4b80f",
   "metadata": {},
   "source": [
    "### Explanation of code\n",
    "\n",
    "In this code, create a list called `things` with three elements: \"mozzarella\", \"cinderella\", and \"salmonella\". \n",
    "\n",
    "Delete the disease element, which is \"salmonella\". We use the `del` statement to remove the third element of the list (`things[2]`).\n",
    "\n",
    "Print the list to verify that the change has been made. The updated list is:\n",
    "\n",
    "```python\n",
    "['mozzarella', 'cinderella']"
   ]
  },
  {
   "cell_type": "code",
   "execution_count": 13,
   "id": "e0c739f5-3a67-4ae5-a7da-afd08fd4deec",
   "metadata": {},
   "outputs": [
    {
     "name": "stdout",
     "output_type": "stream",
     "text": [
      "['Harry', 'Ron', 'Hermione']\n"
     ]
    }
   ],
   "source": [
    "def good():\n",
    "    return ['Harry', 'Ron', 'Hermione']\n",
    "\n",
    "# Example usage:\n",
    "print(good())  # Output: ['Harry', 'Ron', 'Hermione']"
   ]
  },
  {
   "cell_type": "markdown",
   "id": "43a7f1c9-835e-44b7-9f17-855ce7573ea3",
   "metadata": {},
   "source": [
    "```python\n",
    "def good():\n",
    "    return ['Harry', 'Ron', 'Hermione']\n",
    "\n",
    "# Example usage:\n",
    "print(good())  # Output: ['Harry', 'Ron', 'Hermione']"
   ]
  },
  {
   "cell_type": "code",
   "execution_count": 15,
   "id": "05875742-bb7f-4bdd-bd82-bb596070d026",
   "metadata": {},
   "outputs": [
    {
     "name": "stdout",
     "output_type": "stream",
     "text": [
      "5\n"
     ]
    }
   ],
   "source": [
    "def get_odds():\n",
    "    for num in range(10):\n",
    "        if num % 2 != 0:\n",
    "            yield num\n",
    "\n",
    "# Example usage:\n",
    "odds = get_odds()\n",
    "count = 0\n",
    "for odd in odds:\n",
    "    count += 1\n",
    "    if count == 3:\n",
    "        print(odd)  # Output: 5\n",
    "        break"
   ]
  },
  {
   "cell_type": "markdown",
   "id": "f99e21bd-36af-42a8-b9ac-090ebcd6ed61",
   "metadata": {},
   "source": [
    "```python\n",
    "def get_odds():\n",
    "    for num in range(10):\n",
    "        if num % 2 != 0:\n",
    "            yield num\n",
    "\n",
    "# Example usage:\n",
    "odds = get_odds()\n",
    "count = 0\n",
    "for odd in odds:\n",
    "    count += 1\n",
    "    if count == 3:\n",
    "        print(odd)  # Output: 5\n",
    "        break"
   ]
  }
 ],
 "metadata": {
  "kernelspec": {
   "display_name": "Python [conda env:base] *",
   "language": "python",
   "name": "conda-base-py"
  },
  "language_info": {
   "codemirror_mode": {
    "name": "ipython",
    "version": 3
   },
   "file_extension": ".py",
   "mimetype": "text/x-python",
   "name": "python",
   "nbconvert_exporter": "python",
   "pygments_lexer": "ipython3",
   "version": "3.12.7"
  }
 },
 "nbformat": 4,
 "nbformat_minor": 5
}
